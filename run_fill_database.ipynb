{
 "cells": [
  {
   "cell_type": "code",
   "execution_count": 1,
   "metadata": {
    "collapsed": false,
    "scrolled": true
   },
   "outputs": [],
   "source": [
    "import os\n",
    "os.system(\"git clone https://github.com/Uberi/moz-crash-rate-aggregates.git\")\n",
    "os.chdir(\"moz-crash-rate-aggregates/crash_rate_aggregates\")\n",
    "import fill_database"
   ]
  },
  {
   "cell_type": "code",
   "execution_count": 2,
   "metadata": {
    "collapsed": false
   },
   "outputs": [],
   "source": [
    "import json\n",
    "import boto\n",
    "conn = boto.connect_s3(host=\"s3-us-west-2.amazonaws.com\")\n",
    "bucket = conn.get_bucket(\"telemetry-spark-emr-2\")\n",
    "db_pass = json.loads(bucket.get_key(\"crash_rate_aggregates_credentials\").get_contents_as_string())[\"password\"]"
   ]
  },
  {
   "cell_type": "code",
   "execution_count": 3,
   "metadata": {
    "collapsed": false
   },
   "outputs": [],
   "source": [
    "db_host = \"crash-rate-aggregates.cppmil15uwvg.us-west-2.rds.amazonaws.com\"\n",
    "db_name = \"crash_rate_aggregates\"\n",
    "db_user = \"root\""
   ]
  },
  {
   "cell_type": "code",
   "execution_count": 4,
   "metadata": {
    "collapsed": true
   },
   "outputs": [],
   "source": [
    "from datetime import datetime\n",
    "yesterday_utc = (datetime.utcnow() - timedelta(days=1)).strftime(\"%Y%m%d\")"
   ]
  },
  {
   "cell_type": "code",
   "execution_count": 5,
   "metadata": {
    "collapsed": false
   },
   "outputs": [],
   "source": [
    "fill_database.run_job(sc, (yesterday_utc, yesterday_utc), db_host, db_name, db_user, db_pass)"
   ]
  }
 ],
 "metadata": {
  "kernelspec": {
   "display_name": "Python 2",
   "language": "python",
   "name": "python2"
  },
  "language_info": {
   "codemirror_mode": {
    "name": "ipython",
    "version": 2
   },
   "file_extension": ".py",
   "mimetype": "text/x-python",
   "name": "python",
   "nbconvert_exporter": "python",
   "pygments_lexer": "ipython2",
   "version": "2.7.10"
  }
 },
 "nbformat": 4,
 "nbformat_minor": 0
}
